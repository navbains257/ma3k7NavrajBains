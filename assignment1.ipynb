{
 "cells": [
  {
   "cell_type": "code",
   "execution_count": 34,
   "id": "a671ed7c-7fa2-4562-a4e6-18c4c158f850",
   "metadata": {},
   "outputs": [],
   "source": [
    "def braceletGen(a,b,M):\n",
    "    '''Generates a bracelet from two numbers - addition modulo M\n",
    "\n",
    "    Parameters:\n",
    "    a (int): first number of generating pair\n",
    "    b (int): second number of generating pair\n",
    "    M (int): number for addition modulo M\n",
    "\n",
    "    Returns:\n",
    "    array: complete bracelet - starts and ends with a,b\n",
    "    '''\n",
    "\n",
    "    sequence = [a,b]\n",
    "    sequence.append((a+b) % M)\n",
    "    i=2\n",
    "    while(sequence[0] != sequence[i-1] or sequence[1] != sequence[i]):\n",
    "        sequence.append((sequence[i-1]+sequence[i]) % M)\n",
    "        i+=1\n",
    "    return sequence"
   ]
  },
  {
   "cell_type": "code",
   "execution_count": 14,
   "id": "3185cc14-016a-4450-9705-57c5db935855",
   "metadata": {},
   "outputs": [],
   "source": [
    "def comparison(x1,x2):\n",
    "    '''Compares to see if two bracelets are equal\n",
    "\n",
    "    Parameters:\n",
    "    x1 (array): first bracelet for comparison\n",
    "    x2 (array): second bracelet for comparison\n",
    "\n",
    "    Returns:\n",
    "    boolean: True or False depending on if input bracelets equal or not\n",
    "    '''\n",
    "    for i in range(1,len(x2)-1):\n",
    "        if (x1[0]==x2[i-1] and x1[1] == x2[i]):\n",
    "            return True\n",
    "    return False"
   ]
  },
  {
   "cell_type": "code",
   "execution_count": 42,
   "id": "d8ec5979-e8a9-4d58-81de-d6b1fb56e85d",
   "metadata": {},
   "outputs": [
    {
     "name": "stdout",
     "output_type": "stream",
     "text": [
      "Number of bracelets is 6\n"
     ]
    }
   ],
   "source": [
    "# Generate all possible bracelets under our restrictions of a,b ranging 0 to 9 (0 to M-1), and addition modulo 10 (M)\n",
    "# Create an empty array to store unique bracelets, compare generated bracelets to the unique bracelet store\n",
    "# Add to array if comparison is False\n",
    "M = 10\n",
    "unique = []\n",
    "for a in range(M):\n",
    "    for b in range(M):\n",
    "        x1 = braceletGen(a,b,M)\n",
    "        compare = False\n",
    "        for i in range(len(unique)):\n",
    "            if comparison(x1, unique[i]):\n",
    "                compare = True\n",
    "        if not compare:\n",
    "                unique.append(x1)        \n",
    "print(f'Number of bracelets is {len(unique)}')"
   ]
  }
 ],
 "metadata": {
  "kernelspec": {
   "display_name": "Python 3 (ipykernel)",
   "language": "python",
   "name": "python3"
  },
  "language_info": {
   "codemirror_mode": {
    "name": "ipython",
    "version": 3
   },
   "file_extension": ".py",
   "mimetype": "text/x-python",
   "name": "python",
   "nbconvert_exporter": "python",
   "pygments_lexer": "ipython3",
   "version": "3.9.18"
  }
 },
 "nbformat": 4,
 "nbformat_minor": 5
}
